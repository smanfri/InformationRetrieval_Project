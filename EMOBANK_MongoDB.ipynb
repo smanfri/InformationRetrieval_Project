{
 "cells": [
  {
   "cell_type": "code",
   "execution_count": 1,
   "id": "07aa7851",
   "metadata": {},
   "outputs": [],
   "source": [
    "import numpy as np\n",
    "import pandas as pd\n",
    "from tqdm import tqdm_notebook"
   ]
  },
  {
   "cell_type": "code",
   "execution_count": 2,
   "id": "feb78ebd",
   "metadata": {},
   "outputs": [],
   "source": [
    "sep = ','"
   ]
  },
  {
   "cell_type": "markdown",
   "id": "9c4c1432",
   "metadata": {},
   "source": [
    "# Movies"
   ]
  },
  {
   "cell_type": "code",
   "execution_count": 9,
   "id": "3f0cfbf4",
   "metadata": {},
   "outputs": [],
   "source": [
    "text_file = 'dati/emobank.csv'\n",
    "columns = ['id', 'split', 'V', 'A', 'D', 'text']\n",
    "text_raw = pd.read_csv(text_file, sep=sep, engine='python', header=1, \n",
    "                     index_col=0, names=columns)\n"
   ]
  },
  {
   "cell_type": "code",
   "execution_count": 11,
   "id": "d398c07e",
   "metadata": {},
   "outputs": [
    {
     "data": {
      "text/html": [
       "<div>\n",
       "<style scoped>\n",
       "    .dataframe tbody tr th:only-of-type {\n",
       "        vertical-align: middle;\n",
       "    }\n",
       "\n",
       "    .dataframe tbody tr th {\n",
       "        vertical-align: top;\n",
       "    }\n",
       "\n",
       "    .dataframe thead th {\n",
       "        text-align: right;\n",
       "    }\n",
       "</style>\n",
       "<table border=\"1\" class=\"dataframe\">\n",
       "  <thead>\n",
       "    <tr style=\"text-align: right;\">\n",
       "      <th></th>\n",
       "      <th>split</th>\n",
       "      <th>V</th>\n",
       "      <th>A</th>\n",
       "      <th>D</th>\n",
       "      <th>text</th>\n",
       "    </tr>\n",
       "    <tr>\n",
       "      <th>id</th>\n",
       "      <th></th>\n",
       "      <th></th>\n",
       "      <th></th>\n",
       "      <th></th>\n",
       "      <th></th>\n",
       "    </tr>\n",
       "  </thead>\n",
       "  <tbody>\n",
       "    <tr>\n",
       "      <th>110CYL068_1079_1110</th>\n",
       "      <td>test</td>\n",
       "      <td>2.80</td>\n",
       "      <td>3.10</td>\n",
       "      <td>2.80</td>\n",
       "      <td>If I wasn't working here.</td>\n",
       "    </tr>\n",
       "    <tr>\n",
       "      <th>110CYL068_1127_1130</th>\n",
       "      <td>train</td>\n",
       "      <td>3.00</td>\n",
       "      <td>3.00</td>\n",
       "      <td>3.00</td>\n",
       "      <td>..\"</td>\n",
       "    </tr>\n",
       "    <tr>\n",
       "      <th>110CYL068_1137_1188</th>\n",
       "      <td>train</td>\n",
       "      <td>3.44</td>\n",
       "      <td>3.00</td>\n",
       "      <td>3.22</td>\n",
       "      <td>Goodwill helps people get off of public assist...</td>\n",
       "    </tr>\n",
       "    <tr>\n",
       "      <th>110CYL068_1189_1328</th>\n",
       "      <td>train</td>\n",
       "      <td>3.55</td>\n",
       "      <td>3.27</td>\n",
       "      <td>3.46</td>\n",
       "      <td>Sherry learned through our Future Works class ...</td>\n",
       "    </tr>\n",
       "    <tr>\n",
       "      <th>110CYL068_1475_1558</th>\n",
       "      <td>train</td>\n",
       "      <td>3.60</td>\n",
       "      <td>3.30</td>\n",
       "      <td>3.80</td>\n",
       "      <td>Coming to Goodwill was the first step toward m...</td>\n",
       "    </tr>\n",
       "  </tbody>\n",
       "</table>\n",
       "</div>"
      ],
      "text/plain": [
       "                     split     V     A     D  \\\n",
       "id                                             \n",
       "110CYL068_1079_1110   test  2.80  3.10  2.80   \n",
       "110CYL068_1127_1130  train  3.00  3.00  3.00   \n",
       "110CYL068_1137_1188  train  3.44  3.00  3.22   \n",
       "110CYL068_1189_1328  train  3.55  3.27  3.46   \n",
       "110CYL068_1475_1558  train  3.60  3.30  3.80   \n",
       "\n",
       "                                                                  text  \n",
       "id                                                                      \n",
       "110CYL068_1079_1110                          If I wasn't working here.  \n",
       "110CYL068_1127_1130                                                ..\"  \n",
       "110CYL068_1137_1188  Goodwill helps people get off of public assist...  \n",
       "110CYL068_1189_1328  Sherry learned through our Future Works class ...  \n",
       "110CYL068_1475_1558  Coming to Goodwill was the first step toward m...  "
      ]
     },
     "execution_count": 11,
     "metadata": {},
     "output_type": "execute_result"
    }
   ],
   "source": [
    "text_raw.head()"
   ]
  },
  {
   "cell_type": "code",
   "execution_count": 12,
   "id": "28add6e4",
   "metadata": {},
   "outputs": [
    {
     "data": {
      "text/plain": [
       "(10061, 5)"
      ]
     },
     "execution_count": 12,
     "metadata": {},
     "output_type": "execute_result"
    }
   ],
   "source": [
    "text_raw.shape"
   ]
  },
  {
   "cell_type": "markdown",
   "id": "4b982a9d",
   "metadata": {},
   "source": [
    "# To MongoDB"
   ]
  },
  {
   "cell_type": "code",
   "execution_count": 13,
   "id": "d6c1f6f3",
   "metadata": {},
   "outputs": [],
   "source": [
    "import pymongo"
   ]
  },
  {
   "cell_type": "code",
   "execution_count": 14,
   "id": "d4fb6f23",
   "metadata": {},
   "outputs": [],
   "source": [
    "db = pymongo.MongoClient()['Emobank']"
   ]
  },
  {
   "cell_type": "code",
   "execution_count": 17,
   "id": "e23efbf7",
   "metadata": {},
   "outputs": [
    {
     "name": "stdout",
     "output_type": "stream",
     "text": [
      "{'split': 'test', 'V': 2.8, 'A': 3.1, 'D': 2.8, 'text': \"If I wasn't working here.\", 'id': '110CYL068_1079_1110'}\n"
     ]
    }
   ],
   "source": [
    "for i, row in text_raw.iterrows():\n",
    "    record = dict(row)\n",
    "    record['id'] = i\n",
    "    print(record)\n",
    "    break"
   ]
  },
  {
   "cell_type": "code",
   "execution_count": 18,
   "id": "52e83b8c",
   "metadata": {},
   "outputs": [],
   "source": [
    "text_records = {}\n",
    "for i, row in text_raw.iterrows():\n",
    "    record = dict(row)\n",
    "    record['id'] = i\n",
    "    text_records[i] = record"
   ]
  },
  {
   "cell_type": "code",
   "execution_count": 19,
   "id": "c6f01792",
   "metadata": {},
   "outputs": [
    {
     "data": {
      "text/plain": [
       "<pymongo.results.InsertManyResult at 0x199baa7f280>"
      ]
     },
     "execution_count": 19,
     "metadata": {},
     "output_type": "execute_result"
    }
   ],
   "source": [
    "text_collection = db['text']\n",
    "text_collection.insert_many([x for x in text_records.values()])"
   ]
  },
  {
   "cell_type": "code",
   "execution_count": 20,
   "id": "5499d727",
   "metadata": {},
   "outputs": [
    {
     "data": {
      "text/plain": [
       "{'split': 'test',\n",
       " 'V': 2.8,\n",
       " 'A': 3.1,\n",
       " 'D': 2.8,\n",
       " 'text': \"If I wasn't working here.\",\n",
       " 'id': '110CYL068_1079_1110',\n",
       " '_id': ObjectId('6390c622e72073daa8bcf9fb')}"
      ]
     },
     "execution_count": 20,
     "metadata": {},
     "output_type": "execute_result"
    }
   ],
   "source": [
    "text_records['110CYL068_1079_1110']"
   ]
  }
 ],
 "metadata": {
  "kernelspec": {
   "display_name": "Python 3 (ipykernel)",
   "language": "python",
   "name": "python3"
  },
  "language_info": {
   "codemirror_mode": {
    "name": "ipython",
    "version": 3
   },
   "file_extension": ".py",
   "mimetype": "text/x-python",
   "name": "python",
   "nbconvert_exporter": "python",
   "pygments_lexer": "ipython3",
   "version": "3.9.7"
  }
 },
 "nbformat": 4,
 "nbformat_minor": 5
}
