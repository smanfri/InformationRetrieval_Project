{
 "cells": [
  {
   "cell_type": "code",
   "execution_count": 4,
   "id": "07aa7851",
   "metadata": {},
   "outputs": [],
   "source": [
    "import numpy as np\n",
    "import pandas as pd\n",
    "from tqdm import tqdm_notebook"
   ]
  },
  {
   "cell_type": "code",
   "execution_count": 5,
   "id": "feb78ebd",
   "metadata": {},
   "outputs": [],
   "source": [
    "sep = ' \\+\\+\\+\\$\\+\\+\\+ '"
   ]
  },
  {
   "cell_type": "code",
   "execution_count": 6,
   "id": "2166814b",
   "metadata": {},
   "outputs": [],
   "source": [
    "tolist = lambda x: [w.strip(\"'\") for w in x.lstrip('[]').rstrip(']').split(', ')]"
   ]
  },
  {
   "cell_type": "markdown",
   "id": "71d2233c",
   "metadata": {},
   "source": [
    "# Delete database"
   ]
  },
  {
   "cell_type": "code",
   "execution_count": 1,
   "id": "87d240a2",
   "metadata": {},
   "outputs": [],
   "source": [
    "import pymongo"
   ]
  },
  {
   "cell_type": "code",
   "execution_count": 7,
   "id": "8d25e31a",
   "metadata": {},
   "outputs": [],
   "source": [
    "mydb = pymongo.MongoClient()['movie-dialogs']\n",
    "\n",
    "mycol = mydb[\"movies\"]\n",
    "mycol.drop()\n",
    "\n",
    "mycol = mydb[\"characters\"]\n",
    "mycol.drop()\n",
    "\n",
    "mycol = mydb[\"lines\"]\n",
    "mycol.drop()\n",
    "\n",
    "mycol = mydb[\"conversations\"]\n",
    "mycol.drop()"
   ]
  },
  {
   "cell_type": "markdown",
   "id": "9c4c1432",
   "metadata": {},
   "source": [
    "# Movies"
   ]
  },
  {
   "cell_type": "code",
   "execution_count": 8,
   "id": "3f0cfbf4",
   "metadata": {},
   "outputs": [],
   "source": [
    "movies_file = 'dati/CornellMDCorpus/movie_titles_metadata.txt'\n",
    "columns = ['title', 'year', 'rating', 'votes', 'genres']\n",
    "movies_raw = pd.read_csv(movies_file, sep=sep, engine='python', header=None, \n",
    "                     index_col=0, names=columns, encoding='latin1')\n",
    "movies = movies_raw[columns[:-1]]\n",
    "genres = [(i, w) for i, row in movies_raw.iterrows() for w in tolist(row.genres)]"
   ]
  },
  {
   "cell_type": "code",
   "execution_count": 9,
   "id": "d398c07e",
   "metadata": {},
   "outputs": [
    {
     "data": {
      "text/html": [
       "<div>\n",
       "<style scoped>\n",
       "    .dataframe tbody tr th:only-of-type {\n",
       "        vertical-align: middle;\n",
       "    }\n",
       "\n",
       "    .dataframe tbody tr th {\n",
       "        vertical-align: top;\n",
       "    }\n",
       "\n",
       "    .dataframe thead th {\n",
       "        text-align: right;\n",
       "    }\n",
       "</style>\n",
       "<table border=\"1\" class=\"dataframe\">\n",
       "  <thead>\n",
       "    <tr style=\"text-align: right;\">\n",
       "      <th></th>\n",
       "      <th>title</th>\n",
       "      <th>year</th>\n",
       "      <th>rating</th>\n",
       "      <th>votes</th>\n",
       "      <th>genres</th>\n",
       "    </tr>\n",
       "  </thead>\n",
       "  <tbody>\n",
       "    <tr>\n",
       "      <th>m0</th>\n",
       "      <td>10 things i hate about you</td>\n",
       "      <td>1999</td>\n",
       "      <td>6.9</td>\n",
       "      <td>62847</td>\n",
       "      <td>['comedy', 'romance']</td>\n",
       "    </tr>\n",
       "    <tr>\n",
       "      <th>m1</th>\n",
       "      <td>1492: conquest of paradise</td>\n",
       "      <td>1992</td>\n",
       "      <td>6.2</td>\n",
       "      <td>10421</td>\n",
       "      <td>['adventure', 'biography', 'drama', 'history']</td>\n",
       "    </tr>\n",
       "    <tr>\n",
       "      <th>m2</th>\n",
       "      <td>15 minutes</td>\n",
       "      <td>2001</td>\n",
       "      <td>6.1</td>\n",
       "      <td>25854</td>\n",
       "      <td>['action', 'crime', 'drama', 'thriller']</td>\n",
       "    </tr>\n",
       "    <tr>\n",
       "      <th>m3</th>\n",
       "      <td>2001: a space odyssey</td>\n",
       "      <td>1968</td>\n",
       "      <td>8.4</td>\n",
       "      <td>163227</td>\n",
       "      <td>['adventure', 'mystery', 'sci-fi']</td>\n",
       "    </tr>\n",
       "    <tr>\n",
       "      <th>m4</th>\n",
       "      <td>48 hrs.</td>\n",
       "      <td>1982</td>\n",
       "      <td>6.9</td>\n",
       "      <td>22289</td>\n",
       "      <td>['action', 'comedy', 'crime', 'drama', 'thrill...</td>\n",
       "    </tr>\n",
       "  </tbody>\n",
       "</table>\n",
       "</div>"
      ],
      "text/plain": [
       "                         title  year  rating   votes  \\\n",
       "m0  10 things i hate about you  1999     6.9   62847   \n",
       "m1  1492: conquest of paradise  1992     6.2   10421   \n",
       "m2                  15 minutes  2001     6.1   25854   \n",
       "m3       2001: a space odyssey  1968     8.4  163227   \n",
       "m4                     48 hrs.  1982     6.9   22289   \n",
       "\n",
       "                                               genres  \n",
       "m0                              ['comedy', 'romance']  \n",
       "m1     ['adventure', 'biography', 'drama', 'history']  \n",
       "m2           ['action', 'crime', 'drama', 'thriller']  \n",
       "m3                 ['adventure', 'mystery', 'sci-fi']  \n",
       "m4  ['action', 'comedy', 'crime', 'drama', 'thrill...  "
      ]
     },
     "execution_count": 9,
     "metadata": {},
     "output_type": "execute_result"
    }
   ],
   "source": [
    "movies_raw.head()"
   ]
  },
  {
   "cell_type": "code",
   "execution_count": 10,
   "id": "28add6e4",
   "metadata": {},
   "outputs": [
    {
     "data": {
      "text/plain": [
       "(617, 5)"
      ]
     },
     "execution_count": 10,
     "metadata": {},
     "output_type": "execute_result"
    }
   ],
   "source": [
    "movies_raw.shape"
   ]
  },
  {
   "cell_type": "code",
   "execution_count": 11,
   "id": "5e96d0b5",
   "metadata": {},
   "outputs": [
    {
     "data": {
      "text/html": [
       "<div>\n",
       "<style scoped>\n",
       "    .dataframe tbody tr th:only-of-type {\n",
       "        vertical-align: middle;\n",
       "    }\n",
       "\n",
       "    .dataframe tbody tr th {\n",
       "        vertical-align: top;\n",
       "    }\n",
       "\n",
       "    .dataframe thead th {\n",
       "        text-align: right;\n",
       "    }\n",
       "</style>\n",
       "<table border=\"1\" class=\"dataframe\">\n",
       "  <thead>\n",
       "    <tr style=\"text-align: right;\">\n",
       "      <th></th>\n",
       "      <th>title</th>\n",
       "      <th>year</th>\n",
       "      <th>rating</th>\n",
       "      <th>votes</th>\n",
       "    </tr>\n",
       "  </thead>\n",
       "  <tbody>\n",
       "    <tr>\n",
       "      <th>m0</th>\n",
       "      <td>10 things i hate about you</td>\n",
       "      <td>1999</td>\n",
       "      <td>6.9</td>\n",
       "      <td>62847</td>\n",
       "    </tr>\n",
       "    <tr>\n",
       "      <th>m1</th>\n",
       "      <td>1492: conquest of paradise</td>\n",
       "      <td>1992</td>\n",
       "      <td>6.2</td>\n",
       "      <td>10421</td>\n",
       "    </tr>\n",
       "    <tr>\n",
       "      <th>m2</th>\n",
       "      <td>15 minutes</td>\n",
       "      <td>2001</td>\n",
       "      <td>6.1</td>\n",
       "      <td>25854</td>\n",
       "    </tr>\n",
       "    <tr>\n",
       "      <th>m3</th>\n",
       "      <td>2001: a space odyssey</td>\n",
       "      <td>1968</td>\n",
       "      <td>8.4</td>\n",
       "      <td>163227</td>\n",
       "    </tr>\n",
       "    <tr>\n",
       "      <th>m4</th>\n",
       "      <td>48 hrs.</td>\n",
       "      <td>1982</td>\n",
       "      <td>6.9</td>\n",
       "      <td>22289</td>\n",
       "    </tr>\n",
       "  </tbody>\n",
       "</table>\n",
       "</div>"
      ],
      "text/plain": [
       "                         title  year  rating   votes\n",
       "m0  10 things i hate about you  1999     6.9   62847\n",
       "m1  1492: conquest of paradise  1992     6.2   10421\n",
       "m2                  15 minutes  2001     6.1   25854\n",
       "m3       2001: a space odyssey  1968     8.4  163227\n",
       "m4                     48 hrs.  1982     6.9   22289"
      ]
     },
     "execution_count": 11,
     "metadata": {},
     "output_type": "execute_result"
    }
   ],
   "source": [
    "movies.head()"
   ]
  },
  {
   "cell_type": "code",
   "execution_count": 12,
   "id": "a83282af",
   "metadata": {},
   "outputs": [
    {
     "data": {
      "text/plain": [
       "(617, 4)"
      ]
     },
     "execution_count": 12,
     "metadata": {},
     "output_type": "execute_result"
    }
   ],
   "source": [
    "movies.shape"
   ]
  },
  {
   "cell_type": "code",
   "execution_count": 13,
   "id": "b2919610",
   "metadata": {},
   "outputs": [
    {
     "data": {
      "text/plain": [
       "[('m0', 'comedy'),\n",
       " ('m0', 'romance'),\n",
       " ('m1', 'adventure'),\n",
       " ('m1', 'biography'),\n",
       " ('m1', 'drama'),\n",
       " ('m1', 'history'),\n",
       " ('m2', 'action'),\n",
       " ('m2', 'crime'),\n",
       " ('m2', 'drama'),\n",
       " ('m2', 'thriller')]"
      ]
     },
     "execution_count": 13,
     "metadata": {},
     "output_type": "execute_result"
    }
   ],
   "source": [
    "genres[:10]"
   ]
  },
  {
   "cell_type": "markdown",
   "id": "41f129e8",
   "metadata": {},
   "source": [
    "# Characters "
   ]
  },
  {
   "cell_type": "code",
   "execution_count": 14,
   "id": "11c23497",
   "metadata": {},
   "outputs": [],
   "source": [
    "characters_file = 'dati/CornellMDCorpus/movie_characters_metadata.txt'\n",
    "columns = ['name', 'movie', 'title', 'gender', 'pos']\n",
    "characters = pd.read_csv(characters_file, sep=sep, engine='python', \n",
    "                         header=None, names=columns, index_col=0, encoding='latin1')"
   ]
  },
  {
   "cell_type": "code",
   "execution_count": 15,
   "id": "ada3a19a",
   "metadata": {},
   "outputs": [
    {
     "data": {
      "text/html": [
       "<div>\n",
       "<style scoped>\n",
       "    .dataframe tbody tr th:only-of-type {\n",
       "        vertical-align: middle;\n",
       "    }\n",
       "\n",
       "    .dataframe tbody tr th {\n",
       "        vertical-align: top;\n",
       "    }\n",
       "\n",
       "    .dataframe thead th {\n",
       "        text-align: right;\n",
       "    }\n",
       "</style>\n",
       "<table border=\"1\" class=\"dataframe\">\n",
       "  <thead>\n",
       "    <tr style=\"text-align: right;\">\n",
       "      <th></th>\n",
       "      <th>name</th>\n",
       "      <th>movie</th>\n",
       "      <th>title</th>\n",
       "      <th>gender</th>\n",
       "      <th>pos</th>\n",
       "    </tr>\n",
       "  </thead>\n",
       "  <tbody>\n",
       "    <tr>\n",
       "      <th>u0</th>\n",
       "      <td>BIANCA</td>\n",
       "      <td>m0</td>\n",
       "      <td>10 things i hate about you</td>\n",
       "      <td>f</td>\n",
       "      <td>4</td>\n",
       "    </tr>\n",
       "    <tr>\n",
       "      <th>u1</th>\n",
       "      <td>BRUCE</td>\n",
       "      <td>m0</td>\n",
       "      <td>10 things i hate about you</td>\n",
       "      <td>?</td>\n",
       "      <td>?</td>\n",
       "    </tr>\n",
       "    <tr>\n",
       "      <th>u2</th>\n",
       "      <td>CAMERON</td>\n",
       "      <td>m0</td>\n",
       "      <td>10 things i hate about you</td>\n",
       "      <td>m</td>\n",
       "      <td>3</td>\n",
       "    </tr>\n",
       "    <tr>\n",
       "      <th>u3</th>\n",
       "      <td>CHASTITY</td>\n",
       "      <td>m0</td>\n",
       "      <td>10 things i hate about you</td>\n",
       "      <td>?</td>\n",
       "      <td>?</td>\n",
       "    </tr>\n",
       "    <tr>\n",
       "      <th>u4</th>\n",
       "      <td>JOEY</td>\n",
       "      <td>m0</td>\n",
       "      <td>10 things i hate about you</td>\n",
       "      <td>m</td>\n",
       "      <td>6</td>\n",
       "    </tr>\n",
       "  </tbody>\n",
       "</table>\n",
       "</div>"
      ],
      "text/plain": [
       "        name movie                       title gender pos\n",
       "u0    BIANCA    m0  10 things i hate about you      f   4\n",
       "u1     BRUCE    m0  10 things i hate about you      ?   ?\n",
       "u2   CAMERON    m0  10 things i hate about you      m   3\n",
       "u3  CHASTITY    m0  10 things i hate about you      ?   ?\n",
       "u4      JOEY    m0  10 things i hate about you      m   6"
      ]
     },
     "execution_count": 15,
     "metadata": {},
     "output_type": "execute_result"
    }
   ],
   "source": [
    "characters.head()"
   ]
  },
  {
   "cell_type": "code",
   "execution_count": 16,
   "id": "5a6375d1",
   "metadata": {},
   "outputs": [
    {
     "data": {
      "text/plain": [
       "(9035, 5)"
      ]
     },
     "execution_count": 16,
     "metadata": {},
     "output_type": "execute_result"
    }
   ],
   "source": [
    "characters.shape"
   ]
  },
  {
   "cell_type": "markdown",
   "id": "8e455620",
   "metadata": {},
   "source": [
    "# Movie lines"
   ]
  },
  {
   "cell_type": "code",
   "execution_count": 17,
   "id": "d9268779",
   "metadata": {},
   "outputs": [],
   "source": [
    "lines_file = 'dati/CornellMDCorpus/movie_lines.txt'\n",
    "columns = ['character', 'movie', 'name', 'text']\n",
    "movie_lines = pd.read_csv(lines_file, sep=sep, names=columns, header=None,\n",
    "                          index_col=0, engine='python', encoding='latin1')"
   ]
  },
  {
   "cell_type": "code",
   "execution_count": 18,
   "id": "2a0bfde5",
   "metadata": {},
   "outputs": [
    {
     "data": {
      "text/html": [
       "<div>\n",
       "<style scoped>\n",
       "    .dataframe tbody tr th:only-of-type {\n",
       "        vertical-align: middle;\n",
       "    }\n",
       "\n",
       "    .dataframe tbody tr th {\n",
       "        vertical-align: top;\n",
       "    }\n",
       "\n",
       "    .dataframe thead th {\n",
       "        text-align: right;\n",
       "    }\n",
       "</style>\n",
       "<table border=\"1\" class=\"dataframe\">\n",
       "  <thead>\n",
       "    <tr style=\"text-align: right;\">\n",
       "      <th></th>\n",
       "      <th>character</th>\n",
       "      <th>movie</th>\n",
       "      <th>name</th>\n",
       "      <th>text</th>\n",
       "    </tr>\n",
       "  </thead>\n",
       "  <tbody>\n",
       "    <tr>\n",
       "      <th>L1045</th>\n",
       "      <td>u0</td>\n",
       "      <td>m0</td>\n",
       "      <td>BIANCA</td>\n",
       "      <td>They do not!</td>\n",
       "    </tr>\n",
       "    <tr>\n",
       "      <th>L1044</th>\n",
       "      <td>u2</td>\n",
       "      <td>m0</td>\n",
       "      <td>CAMERON</td>\n",
       "      <td>They do to!</td>\n",
       "    </tr>\n",
       "    <tr>\n",
       "      <th>L985</th>\n",
       "      <td>u0</td>\n",
       "      <td>m0</td>\n",
       "      <td>BIANCA</td>\n",
       "      <td>I hope so.</td>\n",
       "    </tr>\n",
       "    <tr>\n",
       "      <th>L984</th>\n",
       "      <td>u2</td>\n",
       "      <td>m0</td>\n",
       "      <td>CAMERON</td>\n",
       "      <td>She okay?</td>\n",
       "    </tr>\n",
       "    <tr>\n",
       "      <th>L925</th>\n",
       "      <td>u0</td>\n",
       "      <td>m0</td>\n",
       "      <td>BIANCA</td>\n",
       "      <td>Let's go.</td>\n",
       "    </tr>\n",
       "  </tbody>\n",
       "</table>\n",
       "</div>"
      ],
      "text/plain": [
       "      character movie     name          text\n",
       "L1045        u0    m0   BIANCA  They do not!\n",
       "L1044        u2    m0  CAMERON   They do to!\n",
       "L985         u0    m0   BIANCA    I hope so.\n",
       "L984         u2    m0  CAMERON     She okay?\n",
       "L925         u0    m0   BIANCA     Let's go."
      ]
     },
     "execution_count": 18,
     "metadata": {},
     "output_type": "execute_result"
    }
   ],
   "source": [
    "movie_lines.head()"
   ]
  },
  {
   "cell_type": "code",
   "execution_count": 19,
   "id": "b6e8ab95",
   "metadata": {},
   "outputs": [
    {
     "data": {
      "text/plain": [
       "(304713, 4)"
      ]
     },
     "execution_count": 19,
     "metadata": {},
     "output_type": "execute_result"
    }
   ],
   "source": [
    "movie_lines.shape"
   ]
  },
  {
   "cell_type": "markdown",
   "id": "98569c56",
   "metadata": {},
   "source": [
    "# Conversations"
   ]
  },
  {
   "cell_type": "code",
   "execution_count": 20,
   "id": "8deba8a2",
   "metadata": {},
   "outputs": [],
   "source": [
    "conversations_file = 'dati/CornellMDCorpus/movie_conversations.txt'\n",
    "columns = ['character_a', 'character_b', 'movie', 'lines']\n",
    "conversations = pd.read_csv(conversations_file, sep=sep, names=columns, \n",
    "                             header=None, engine='python', encoding='latin1')"
   ]
  },
  {
   "cell_type": "code",
   "execution_count": 21,
   "id": "81f41f5d",
   "metadata": {},
   "outputs": [
    {
     "data": {
      "text/html": [
       "<div>\n",
       "<style scoped>\n",
       "    .dataframe tbody tr th:only-of-type {\n",
       "        vertical-align: middle;\n",
       "    }\n",
       "\n",
       "    .dataframe tbody tr th {\n",
       "        vertical-align: top;\n",
       "    }\n",
       "\n",
       "    .dataframe thead th {\n",
       "        text-align: right;\n",
       "    }\n",
       "</style>\n",
       "<table border=\"1\" class=\"dataframe\">\n",
       "  <thead>\n",
       "    <tr style=\"text-align: right;\">\n",
       "      <th></th>\n",
       "      <th>character_a</th>\n",
       "      <th>character_b</th>\n",
       "      <th>movie</th>\n",
       "      <th>lines</th>\n",
       "    </tr>\n",
       "  </thead>\n",
       "  <tbody>\n",
       "    <tr>\n",
       "      <th>0</th>\n",
       "      <td>u0</td>\n",
       "      <td>u2</td>\n",
       "      <td>m0</td>\n",
       "      <td>['L194', 'L195', 'L196', 'L197']</td>\n",
       "    </tr>\n",
       "    <tr>\n",
       "      <th>1</th>\n",
       "      <td>u0</td>\n",
       "      <td>u2</td>\n",
       "      <td>m0</td>\n",
       "      <td>['L198', 'L199']</td>\n",
       "    </tr>\n",
       "    <tr>\n",
       "      <th>2</th>\n",
       "      <td>u0</td>\n",
       "      <td>u2</td>\n",
       "      <td>m0</td>\n",
       "      <td>['L200', 'L201', 'L202', 'L203']</td>\n",
       "    </tr>\n",
       "    <tr>\n",
       "      <th>3</th>\n",
       "      <td>u0</td>\n",
       "      <td>u2</td>\n",
       "      <td>m0</td>\n",
       "      <td>['L204', 'L205', 'L206']</td>\n",
       "    </tr>\n",
       "    <tr>\n",
       "      <th>4</th>\n",
       "      <td>u0</td>\n",
       "      <td>u2</td>\n",
       "      <td>m0</td>\n",
       "      <td>['L207', 'L208']</td>\n",
       "    </tr>\n",
       "  </tbody>\n",
       "</table>\n",
       "</div>"
      ],
      "text/plain": [
       "  character_a character_b movie                             lines\n",
       "0          u0          u2    m0  ['L194', 'L195', 'L196', 'L197']\n",
       "1          u0          u2    m0                  ['L198', 'L199']\n",
       "2          u0          u2    m0  ['L200', 'L201', 'L202', 'L203']\n",
       "3          u0          u2    m0          ['L204', 'L205', 'L206']\n",
       "4          u0          u2    m0                  ['L207', 'L208']"
      ]
     },
     "execution_count": 21,
     "metadata": {},
     "output_type": "execute_result"
    }
   ],
   "source": [
    "conversations.head()"
   ]
  },
  {
   "cell_type": "code",
   "execution_count": 22,
   "id": "0c812803",
   "metadata": {},
   "outputs": [
    {
     "data": {
      "text/plain": [
       "(83097, 4)"
      ]
     },
     "execution_count": 22,
     "metadata": {},
     "output_type": "execute_result"
    }
   ],
   "source": [
    "conversations.shape"
   ]
  },
  {
   "cell_type": "markdown",
   "id": "4b982a9d",
   "metadata": {},
   "source": [
    "# To MongoDB"
   ]
  },
  {
   "cell_type": "code",
   "execution_count": 23,
   "id": "d6c1f6f3",
   "metadata": {},
   "outputs": [],
   "source": [
    "import pymongo"
   ]
  },
  {
   "cell_type": "code",
   "execution_count": 24,
   "id": "d4fb6f23",
   "metadata": {},
   "outputs": [],
   "source": [
    "db = pymongo.MongoClient()['movie-dialogs']"
   ]
  },
  {
   "cell_type": "code",
   "execution_count": 25,
   "id": "e23efbf7",
   "metadata": {},
   "outputs": [
    {
     "name": "stdout",
     "output_type": "stream",
     "text": [
      "{'title': '10 things i hate about you', 'year': '1999', 'rating': 6.9, 'votes': 62847, 'genres': \"['comedy', 'romance']\"}\n",
      "{'title': '10 things i hate about you', 'year': 1999, 'rating': 6.9, 'votes': 62847, 'genres': ['comedy', 'romance'], 'id': 'm0'}\n"
     ]
    }
   ],
   "source": [
    "for i, row in movies_raw.iterrows():\n",
    "    record = dict(row)\n",
    "    print(record)\n",
    "    record['genres'] = tolist(row.genres)\n",
    "    record['id'] = i\n",
    "    try:\n",
    "        record['year'] = int(row.year)\n",
    "    except ValueError:\n",
    "        del(record['year'])\n",
    "    print(record)\n",
    "    break"
   ]
  },
  {
   "cell_type": "code",
   "execution_count": 26,
   "id": "52e83b8c",
   "metadata": {},
   "outputs": [],
   "source": [
    "movie_records = {}\n",
    "for i, row in movies_raw.iterrows():\n",
    "    record = dict(row)\n",
    "    record['genres'] = tolist(row.genres)\n",
    "    record['id'] = i\n",
    "    try:\n",
    "        record['year'] = int(row.year)\n",
    "    except ValueError:\n",
    "        del(record['year'])\n",
    "    movie_records[i] = record"
   ]
  },
  {
   "cell_type": "code",
   "execution_count": 27,
   "id": "c6f01792",
   "metadata": {},
   "outputs": [
    {
     "data": {
      "text/plain": [
       "<pymongo.results.InsertManyResult at 0x1cbbe0fe2e0>"
      ]
     },
     "execution_count": 27,
     "metadata": {},
     "output_type": "execute_result"
    }
   ],
   "source": [
    "movie_collection = db['movies']\n",
    "movie_collection.insert_many([x for x in movie_records.values()])"
   ]
  },
  {
   "cell_type": "code",
   "execution_count": 28,
   "id": "5499d727",
   "metadata": {},
   "outputs": [
    {
     "data": {
      "text/plain": [
       "{'title': '10 things i hate about you',\n",
       " 'year': 1999,\n",
       " 'rating': 6.9,\n",
       " 'votes': 62847,\n",
       " 'genres': ['comedy', 'romance'],\n",
       " 'id': 'm0',\n",
       " '_id': ObjectId('63e0d1b8e78cf63e11c5e9c7')}"
      ]
     },
     "execution_count": 28,
     "metadata": {},
     "output_type": "execute_result"
    }
   ],
   "source": [
    "movie_records['m0']"
   ]
  },
  {
   "cell_type": "code",
   "execution_count": 29,
   "id": "5a2441c6",
   "metadata": {},
   "outputs": [],
   "source": [
    "character_records = {}\n",
    "for i, row in characters.iterrows():\n",
    "    c = dict(row)\n",
    "    c['movie'] = movie_records[row.movie]\n",
    "    del(c['title'])\n",
    "    try:\n",
    "        del(c['movie']['_id'])\n",
    "    except KeyError:\n",
    "        pass\n",
    "    try:\n",
    "        c['pos'] = int(c['pos'])\n",
    "    except ValueError:\n",
    "        del(c['pos'])\n",
    "    character_records[i] = c"
   ]
  },
  {
   "cell_type": "code",
   "execution_count": 30,
   "id": "e3d51765",
   "metadata": {},
   "outputs": [
    {
     "data": {
      "text/plain": [
       "<pymongo.results.InsertManyResult at 0x1cbc9982fd0>"
      ]
     },
     "execution_count": 30,
     "metadata": {},
     "output_type": "execute_result"
    }
   ],
   "source": [
    "characters_collection = db['characters']\n",
    "characters_collection.insert_many([x for x in character_records.values()])"
   ]
  },
  {
   "cell_type": "code",
   "execution_count": 31,
   "id": "46b3bf3c",
   "metadata": {},
   "outputs": [
    {
     "name": "stdout",
     "output_type": "stream",
     "text": [
      "{'character': 'u0', 'movie': 'm0', 'name': 'BIANCA', 'text': 'They do not!'}\n"
     ]
    }
   ],
   "source": [
    "for i, row in movie_lines.iterrows():\n",
    "    c = dict(row)\n",
    "    print(c)\n",
    "    break"
   ]
  },
  {
   "cell_type": "code",
   "execution_count": 32,
   "id": "bfb2485c",
   "metadata": {},
   "outputs": [
    {
     "data": {
      "text/plain": [
       "{'name': 'BIANCA',\n",
       " 'movie': {'title': '10 things i hate about you',\n",
       "  'year': 1999,\n",
       "  'rating': 6.9,\n",
       "  'votes': 62847,\n",
       "  'genres': ['comedy', 'romance'],\n",
       "  'id': 'm0'},\n",
       " 'gender': 'f',\n",
       " 'pos': 4,\n",
       " '_id': ObjectId('63e0d1bbe78cf63e11c5ec30')}"
      ]
     },
     "execution_count": 32,
     "metadata": {},
     "output_type": "execute_result"
    }
   ],
   "source": [
    "character_records['u0']"
   ]
  },
  {
   "cell_type": "code",
   "execution_count": 33,
   "id": "2a39cc56",
   "metadata": {},
   "outputs": [],
   "source": [
    "line_records = {}\n",
    "for i, row in movie_lines.iterrows():\n",
    "    c = dict(row)\n",
    "    c_id = c['character']\n",
    "    c['character'] = character_records[c_id]\n",
    "    c['character']['id'] = c_id\n",
    "    del(c['movie'])\n",
    "    del(c['name'])\n",
    "    try:\n",
    "        del(c['character']['_id'])\n",
    "    except KeyError:\n",
    "        pass\n",
    "    c['id'] = i\n",
    "    line_records[i] = c"
   ]
  },
  {
   "cell_type": "code",
   "execution_count": 34,
   "id": "e18d9083",
   "metadata": {},
   "outputs": [
    {
     "data": {
      "text/plain": [
       "{'character': {'name': 'BIANCA',\n",
       "  'movie': {'title': '10 things i hate about you',\n",
       "   'year': 1999,\n",
       "   'rating': 6.9,\n",
       "   'votes': 62847,\n",
       "   'genres': ['comedy', 'romance'],\n",
       "   'id': 'm0'},\n",
       "  'gender': 'f',\n",
       "  'pos': 4,\n",
       "  'id': 'u0'},\n",
       " 'text': 'They do not!',\n",
       " 'id': 'L1045'}"
      ]
     },
     "execution_count": 34,
     "metadata": {},
     "output_type": "execute_result"
    }
   ],
   "source": [
    "line_records['L1045']"
   ]
  },
  {
   "cell_type": "code",
   "execution_count": 35,
   "id": "ff3e46fa",
   "metadata": {},
   "outputs": [
    {
     "data": {
      "text/plain": [
       "<pymongo.results.InsertManyResult at 0x1cbcbcc0340>"
      ]
     },
     "execution_count": 35,
     "metadata": {},
     "output_type": "execute_result"
    }
   ],
   "source": [
    "line_collection = db['lines']\n",
    "line_collection.insert_many([x for x in line_records.values()])"
   ]
  },
  {
   "cell_type": "code",
   "execution_count": 36,
   "id": "0cbcb6ac",
   "metadata": {},
   "outputs": [
    {
     "data": {
      "text/plain": [
       "dict_items([('name', 'BIANCA'), ('movie', {'title': '10 things i hate about you', 'year': 1999, 'rating': 6.9, 'votes': 62847, 'genres': ['comedy', 'romance'], 'id': 'm0'}), ('gender', 'f'), ('pos', 4), ('id', 'u0')])"
      ]
     },
     "execution_count": 36,
     "metadata": {},
     "output_type": "execute_result"
    }
   ],
   "source": [
    "character_records['u0'].items()"
   ]
  },
  {
   "cell_type": "code",
   "execution_count": 37,
   "id": "03a438b4",
   "metadata": {},
   "outputs": [
    {
     "data": {
      "text/plain": [
       "{'name': 'BIANCA', 'gender': 'f', 'pos': 4, 'id': 'u0'}"
      ]
     },
     "execution_count": 37,
     "metadata": {},
     "output_type": "execute_result"
    }
   ],
   "source": [
    "dict([(k, v) for k, v in character_records['u0'].items() if k not in ['movie']])"
   ]
  },
  {
   "cell_type": "code",
   "execution_count": 38,
   "id": "54e214d3",
   "metadata": {},
   "outputs": [],
   "source": [
    "conversation_records = {}\n",
    "for i, row in conversations.iterrows():\n",
    "    c = dict(row)\n",
    "    c['character_a'] = dict([(k, v) for k, v in \n",
    "                             character_records[c['character_a']].items() if k not in ['movie']])\n",
    "    c['character_b'] = dict([(k, v) for k, v in \n",
    "                             character_records[c['character_b']].items() if k not in ['movie']])\n",
    "    c['movie'] = movie_records[c['movie']]\n",
    "    conversation_records[i] = c\n",
    "    lines_raw = [line_records[l] for l in tolist(c['lines'])]\n",
    "    lines = [{'line': x['id'], 'text': x['text'], \n",
    "              'character': x['character']['id'], \n",
    "              'gender': x['character']['gender']} for x in lines_raw]\n",
    "    c['lines'] = lines\n",
    "    c['len'] = len(lines)\n",
    "    conversation_records[i] = c"
   ]
  },
  {
   "cell_type": "code",
   "execution_count": 39,
   "id": "ed8113d9",
   "metadata": {},
   "outputs": [
    {
     "data": {
      "text/plain": [
       "<pymongo.results.InsertManyResult at 0x1cbcfd6eee0>"
      ]
     },
     "execution_count": 39,
     "metadata": {},
     "output_type": "execute_result"
    }
   ],
   "source": [
    "conversations_collection = db['conversations']\n",
    "conversations_collection.insert_many([x for x in conversation_records.values()])"
   ]
  },
  {
   "cell_type": "code",
   "execution_count": null,
   "id": "3afe89fc",
   "metadata": {},
   "outputs": [],
   "source": []
  }
 ],
 "metadata": {
  "kernelspec": {
   "display_name": "Python 3 (ipykernel)",
   "language": "python",
   "name": "python3"
  },
  "language_info": {
   "codemirror_mode": {
    "name": "ipython",
    "version": 3
   },
   "file_extension": ".py",
   "mimetype": "text/x-python",
   "name": "python",
   "nbconvert_exporter": "python",
   "pygments_lexer": "ipython3",
   "version": "3.9.7"
  }
 },
 "nbformat": 4,
 "nbformat_minor": 5
}
